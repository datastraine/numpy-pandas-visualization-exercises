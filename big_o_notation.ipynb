{
 "cells": [
  {
   "cell_type": "code",
   "execution_count": 1,
   "metadata": {},
   "outputs": [
    {
     "name": "stdout",
     "output_type": "stream",
     "text": [
      "Success!!\n"
     ]
    }
   ],
   "source": [
    "import math\n",
    "import matplotlib.pyplot as plt\n",
    "print(\"Success!!\")"
   ]
  },
  {
   "cell_type": "code",
   "execution_count": 3,
   "metadata": {
    "scrolled": false
   },
   "outputs": [
    {
     "ename": "ValueError",
     "evalue": "math domain error",
     "output_type": "error",
     "traceback": [
      "\u001b[0;31m---------------------------------------------------------------------------\u001b[0m",
      "\u001b[0;31mValueError\u001b[0m                                Traceback (most recent call last)",
      "\u001b[0;32m<ipython-input-3-eb3ced9f5626>\u001b[0m in \u001b[0;36m<module>\u001b[0;34m\u001b[0m\n\u001b[1;32m      2\u001b[0m \u001b[0;34m\u001b[0m\u001b[0m\n\u001b[1;32m      3\u001b[0m \u001b[0my1\u001b[0m \u001b[0;34m=\u001b[0m \u001b[0;34m[\u001b[0m\u001b[0;36m1\u001b[0m \u001b[0;32mfor\u001b[0m \u001b[0mn\u001b[0m \u001b[0;32min\u001b[0m \u001b[0mx\u001b[0m\u001b[0;34m]\u001b[0m\u001b[0;34m\u001b[0m\u001b[0;34m\u001b[0m\u001b[0m\n\u001b[0;32m----> 4\u001b[0;31m \u001b[0my2\u001b[0m \u001b[0;34m=\u001b[0m \u001b[0;34m[\u001b[0m\u001b[0mmath\u001b[0m\u001b[0;34m.\u001b[0m\u001b[0mlog\u001b[0m\u001b[0;34m(\u001b[0m\u001b[0mn\u001b[0m\u001b[0;34m)\u001b[0m\u001b[0;32mfor\u001b[0m \u001b[0mn\u001b[0m \u001b[0;32min\u001b[0m \u001b[0mx\u001b[0m\u001b[0;34m]\u001b[0m\u001b[0;34m\u001b[0m\u001b[0;34m\u001b[0m\u001b[0m\n\u001b[0m\u001b[1;32m      5\u001b[0m \u001b[0my3\u001b[0m \u001b[0;34m=\u001b[0m \u001b[0;34m[\u001b[0m\u001b[0mn\u001b[0m \u001b[0;32mfor\u001b[0m \u001b[0mn\u001b[0m \u001b[0;32min\u001b[0m \u001b[0mx\u001b[0m\u001b[0;34m]\u001b[0m\u001b[0;34m\u001b[0m\u001b[0;34m\u001b[0m\u001b[0m\n\u001b[1;32m      6\u001b[0m \u001b[0my4\u001b[0m \u001b[0;34m=\u001b[0m \u001b[0;34m[\u001b[0m\u001b[0mn\u001b[0m \u001b[0;34m*\u001b[0m \u001b[0mmath\u001b[0m\u001b[0;34m.\u001b[0m\u001b[0mlog\u001b[0m\u001b[0;34m(\u001b[0m\u001b[0mn\u001b[0m\u001b[0;34m)\u001b[0m \u001b[0;32mfor\u001b[0m \u001b[0mn\u001b[0m \u001b[0;32min\u001b[0m \u001b[0mx\u001b[0m\u001b[0;34m]\u001b[0m\u001b[0;34m\u001b[0m\u001b[0;34m\u001b[0m\u001b[0m\n",
      "\u001b[0;32m<ipython-input-3-eb3ced9f5626>\u001b[0m in \u001b[0;36m<listcomp>\u001b[0;34m(.0)\u001b[0m\n\u001b[1;32m      2\u001b[0m \u001b[0;34m\u001b[0m\u001b[0m\n\u001b[1;32m      3\u001b[0m \u001b[0my1\u001b[0m \u001b[0;34m=\u001b[0m \u001b[0;34m[\u001b[0m\u001b[0;36m1\u001b[0m \u001b[0;32mfor\u001b[0m \u001b[0mn\u001b[0m \u001b[0;32min\u001b[0m \u001b[0mx\u001b[0m\u001b[0;34m]\u001b[0m\u001b[0;34m\u001b[0m\u001b[0;34m\u001b[0m\u001b[0m\n\u001b[0;32m----> 4\u001b[0;31m \u001b[0my2\u001b[0m \u001b[0;34m=\u001b[0m \u001b[0;34m[\u001b[0m\u001b[0mmath\u001b[0m\u001b[0;34m.\u001b[0m\u001b[0mlog\u001b[0m\u001b[0;34m(\u001b[0m\u001b[0mn\u001b[0m\u001b[0;34m)\u001b[0m\u001b[0;32mfor\u001b[0m \u001b[0mn\u001b[0m \u001b[0;32min\u001b[0m \u001b[0mx\u001b[0m\u001b[0;34m]\u001b[0m\u001b[0;34m\u001b[0m\u001b[0;34m\u001b[0m\u001b[0m\n\u001b[0m\u001b[1;32m      5\u001b[0m \u001b[0my3\u001b[0m \u001b[0;34m=\u001b[0m \u001b[0;34m[\u001b[0m\u001b[0mn\u001b[0m \u001b[0;32mfor\u001b[0m \u001b[0mn\u001b[0m \u001b[0;32min\u001b[0m \u001b[0mx\u001b[0m\u001b[0;34m]\u001b[0m\u001b[0;34m\u001b[0m\u001b[0;34m\u001b[0m\u001b[0m\n\u001b[1;32m      6\u001b[0m \u001b[0my4\u001b[0m \u001b[0;34m=\u001b[0m \u001b[0;34m[\u001b[0m\u001b[0mn\u001b[0m \u001b[0;34m*\u001b[0m \u001b[0mmath\u001b[0m\u001b[0;34m.\u001b[0m\u001b[0mlog\u001b[0m\u001b[0;34m(\u001b[0m\u001b[0mn\u001b[0m\u001b[0;34m)\u001b[0m \u001b[0;32mfor\u001b[0m \u001b[0mn\u001b[0m \u001b[0;32min\u001b[0m \u001b[0mx\u001b[0m\u001b[0;34m]\u001b[0m\u001b[0;34m\u001b[0m\u001b[0;34m\u001b[0m\u001b[0m\n",
      "\u001b[0;31mValueError\u001b[0m: math domain error"
     ]
    }
   ],
   "source": [
    "x = list(range(0, 5))\n",
    "\n",
    "y1 = [1 for n in x]\n",
    "y2 = [math.log(n)for n in x]\n",
    "y3 = [n for n in x]\n",
    "y4 = [n * math.log(n) for n in x]\n",
    "y5 = [n**2 for n in x]\n",
    "y6 = [2**n for n in x]\n",
    "y7 = [math.factorial(n) for n in x]\n",
    "y8 = [n**n for n in x]\n",
    "\n",
    "plt.figure(figsize = (15, 10))\n",
    "plt.plot(x, y1, label = \"$O(1)$\")\n",
    "plt.plot(x, y2, label = \"O(log n)\")\n",
    "plt.plot(x, y3, label = \"O(n)\")\n",
    "plt.plot(x, y4, label = \"O(n log n)\")\n",
    "plt.plot(x, y5, label = \"O($n^2$)\")\n",
    "plt.plot(x, y6, label = \"O($2^n$)\")\n",
    "plt.plot(x, y7, label = \"O(n!)\")\n",
    "plt.plot(x, y8, label = \"O($n^n$)\")\n",
    "plt.title(\"Big O Notation\", fontsize = 20)\n",
    "plt.xlabel(\"Elements\", fontsize = 18)\n",
    "plt.ylabel(\"Operations\", fontsize = 18)\n",
    "plt.legend(loc = \"upper left\", fontsize = 14)\n",
    "plt.show()"
   ]
  },
  {
   "cell_type": "code",
   "execution_count": 95,
   "metadata": {},
   "outputs": [
    {
     "data": {
      "text/plain": [
       "[<matplotlib.lines.Line2D at 0x7fbe8819f890>]"
      ]
     },
     "execution_count": 95,
     "metadata": {},
     "output_type": "execute_result"
    },
    {
     "data": {
      "image/png": "[encoded data removed]",
      "text/plain": [
       "<Figure size 432x288 with 1 Axes>"
      ]
     },
     "metadata": {
      "needs_background": "light"
     },
     "output_type": "display_data"
    }
   ],
   "source": [
    "#Draw you name using block letters \n",
    "\n",
    "x1 = [2.6, 2.8]\n",
    "y1 = [1, 3]\n",
    "plt.plot(x1, y1, c = 'purple')\n",
    "\n",
    "x2 = [3, 2.8]\n",
    "y2 = [1, 3]\n",
    "plt.plot(x2, y2, c = 'purple')\n",
    "\n",
    "x3 = [2.7, 2.9]\n",
    "y3 = [2, 2]\n",
    "plt.plot(x3, y3, c = 'purple')\n",
    "\n",
    "\n",
    "x3 = [2.7, 2.9]\n",
    "y3 = [2, 2]\n",
    "plt.plot(x3, y3, c = 'purple')\n",
    "\n",
    "\n",
    "x4 = [3.1, 3.1]\n",
    "y4 = [1, 3]\n",
    "plt.plot(x4, y4, c = 'orange')\n",
    "\n",
    "x5 = [3.1, 3.5]\n",
    "y5 = [3, 1]\n",
    "plt.plot(x5, y5, c = 'orange')\n",
    "\n",
    "x6 = [3.5, 3.5]\n",
    "y6 = [1, 3]\n",
    "plt.plot(x6, y6, c = 'orange')\n",
    "\n",
    "x7 = [3.6, 4.1]\n",
    "y7 = [3, 3]\n",
    "plt.plot(x7, y7, c = 'red')\n",
    "\n",
    "x8 = [3.85, 3.85]\n",
    "y8 = [1, 3]\n",
    "plt.plot(x8, y8, c = 'red')\n",
    "\n",
    "x9 = [4.2, 4.6]\n",
    "y9 = [2, 2]\n",
    "plt.plot(x9, y9, c = 'blue')\n",
    "\n",
    "x10 = [4.2, 4.2]\n",
    "y10 = [1, 3]\n",
    "plt.plot(x10, y10, c = 'blue')\n",
    "\n",
    "x11 = [4.6, 4.6]\n",
    "y11 = [1, 3]\n",
    "plt.plot(x11, y11, c = 'blue')\n",
    "\n",
    "x12 = [4.7, 4.7]\n",
    "y12 = [1, 3]\n",
    "plt.plot(x12, y12, c = 'green')\n",
    "\n",
    "x13 = [4.7, 5.1]\n",
    "y13 = [1, 1]\n",
    "plt.plot(x13, y13, c = 'green')\n",
    "\n",
    "x14 = [4.7, 5.1]\n",
    "y14 = [3, 3]\n",
    "plt.plot(x14, y14, c = 'green')\n",
    "\n",
    "x15 = [5.1, 5.1]\n",
    "y15 = [1, 3]\n",
    "plt.plot(x15, y15, c = 'green')\n",
    "\n",
    "x16 = [5.2, 5.2]\n",
    "y16 = [1, 3]\n",
    "plt.plot(x16, y16, c = 'sienna')\n",
    "\n",
    "x17 = [5.2, 5.6]\n",
    "y17 = [3, 1]\n",
    "plt.plot(x17, y17, c = 'sienna')\n",
    "\n",
    "x18 = [5.6, 5.6]\n",
    "y18 = [1, 3]\n",
    "plt.plot(x18, y18, c = 'sienna')\n",
    "\n",
    "x19 = [5.95, 5.7]\n",
    "y19 = [2, 3]\n",
    "plt.plot(x19, y19, c = 'lime')\n",
    "\n",
    "x20 = [5.7, 6.2]\n",
    "y20 = [1, 3]\n",
    "plt.plot(x21, y21, c = 'lime')"
   ]
  },
  {
   "cell_type": "code",
   "execution_count": 101,
   "metadata": {},
   "outputs": [
    {
     "data": {
      "text/plain": [
       "[<matplotlib.lines.Line2D at 0x7fbe884517d0>]"
      ]
     },
     "execution_count": 101,
     "metadata": {},
     "output_type": "execute_result"
    },
    {
     "data": {
      "image/png": "[encoded data removed]",
      "text/plain": [
       "<Figure size 432x288 with 1 Axes>"
      ]
     },
     "metadata": {
      "needs_background": "light"
     },
     "output_type": "display_data"
    }
   ],
   "source": [
    "x12 = [4.7, 4.7]\n",
    "y12 = [1, 3]\n",
    "plt.plot(x12, y12, c = 'green')\n",
    "\n",
    "x13 = [4.7, 5.1]\n",
    "y13 = [1, 1]\n",
    "plt.plot(x13, y13, c = 'green')\n",
    "\n",
    "x14 = [4.7, 5.1]\n",
    "y14 = [3, 3]\n",
    "plt.plot(x14, y14, c = 'green')\n",
    "\n",
    "x15 = [5.1, 5.1]\n",
    "y15 = [1, 3]\n",
    "plt.plot(x15, y15, c = 'green')"
   ]
  },
  {
   "cell_type": "code",
   "execution_count": null,
   "metadata": {},
   "outputs": [],
   "source": []
  }
 ],
 "metadata": {
  "kernelspec": {
   "display_name": "Python 3",
   "language": "python",
   "name": "python3"
  },
  "language_info": {
   "codemirror_mode": {
    "name": "ipython",
    "version": 3
   },
   "file_extension": ".py",
   "mimetype": "text/x-python",
   "name": "python",
   "nbconvert_exporter": "python",
   "pygments_lexer": "ipython3",
   "version": "3.7.6"
  }
 },
 "nbformat": 4,
 "nbformat_minor": 4
}
